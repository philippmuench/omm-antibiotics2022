{
 "cells": [
  {
   "cell_type": "code",
   "execution_count": 2,
   "id": "33aed79c-45a2-4c4e-837e-c9c353fa43a6",
   "metadata": {},
   "outputs": [
    {
     "data": {
      "text/html": [
       "489"
      ],
      "text/latex": [
       "489"
      ],
      "text/markdown": [
       "489"
      ],
      "text/plain": [
       "[1] 489"
      ]
     },
     "metadata": {},
     "output_type": "display_data"
    }
   ],
   "source": [
    "dat <- readRDS(\"omm_wgs_imputed_wide_filtered.rds\")\n",
    "nrow(dat)\n",
    "\n",
    "write.table(dat, file = \"omm_wgs_imputed_wide_filtered.tsv\", sep = \"\\t\")"
   ]
  }
 ],
 "metadata": {
  "kernelspec": {
   "display_name": "R",
   "language": "R",
   "name": "ir"
  },
  "language_info": {
   "codemirror_mode": "r",
   "file_extension": ".r",
   "mimetype": "text/x-r-source",
   "name": "R",
   "pygments_lexer": "r",
   "version": "4.1.3"
  }
 },
 "nbformat": 4,
 "nbformat_minor": 5
}
